{
 "cells": [
  {
   "cell_type": "markdown",
   "id": "335bd39c-352f-4768-a32c-440de59cae8b",
   "metadata": {},
   "source": [
    "# Data Science Tools and Ecosystem"
   ]
  },
  {
   "cell_type": "markdown",
   "id": "9ad9f24c-e462-488d-a75d-4756ede78afe",
   "metadata": {},
   "source": [
    "## Author:\n",
    "Aleya Giardinella"
   ]
  },
  {
   "cell_type": "markdown",
   "id": "cc93e9d3-b42a-4748-9594-10de694ca3d6",
   "metadata": {},
   "source": [
    "**In this notebook, Data Science Tools and Ecosystems are summarized.**"
   ]
  },
  {
   "cell_type": "markdown",
   "id": "f104815c-cf2b-4afc-a0a8-e329d92874ed",
   "metadata": {},
   "source": [
    "**Objectives:**\n",
    "- Popular languages used by data scientist\n",
    "- Libraries used in data science\n",
    "- The tools used by data science\n",
    "- Examples of simple arithmetic"
   ]
  },
  {
   "cell_type": "markdown",
   "id": "370563eb-80ad-4c51-8d05-8c19ac46c922",
   "metadata": {},
   "source": [
    "Some of the most popular languages that data scientist use are:\n",
    "1. Python\n",
    "2. R\n",
    "3. SQL\n",
    "4. Scala\n",
    "5. Java\n",
    "6. C++\n",
    "7. Julia"
   ]
  },
  {
   "attachments": {},
   "cell_type": "markdown",
   "id": "b2a21f09-7f3f-4c9b-a279-00d46a43363d",
   "metadata": {},
   "source": [
    "Some of the commonly used libraries used by data scientist include:\n",
    "1. NumPy\n",
    "2. Pandas\n",
    "3. Matplotlib\n",
    "4. Scikit-learn\n",
    "5. TensorFlow\n",
    "6. PyTorch"
   ]
  },
  {
   "cell_type": "markdown",
   "id": "93349cb1-0618-46b4-a918-1a13297350b8",
   "metadata": {},
   "source": [
    "| Data Science Tools |\n",
    "|--------------------|\n",
    "| Python |\n",
    "| R |\n",
    "| Anaconda |"
   ]
  },
  {
   "cell_type": "markdown",
   "id": "fc9c4683-f558-4e94-8537-2c52a6650193",
   "metadata": {},
   "source": [
    "### Below are a few examples of evaluating arithmetic expressions in Python."
   ]
  },
  {
   "cell_type": "code",
   "execution_count": 1,
   "id": "0af278d7-e888-43e6-bdb1-7d9374cce9a7",
   "metadata": {},
   "outputs": [
    {
     "data": {
      "text/plain": [
       "17"
      ]
     },
     "execution_count": 1,
     "metadata": {},
     "output_type": "execute_result"
    }
   ],
   "source": [
    "# This is simple arithmetic expression to multiply then add integers.\n",
    "(3*4)+5"
   ]
  },
  {
   "cell_type": "code",
   "execution_count": 2,
   "id": "b3183883-3b38-4cdd-b3e4-d2df508a5dd7",
   "metadata": {},
   "outputs": [
    {
     "data": {
      "text/plain": [
       "3.3333333333333335"
      ]
     },
     "execution_count": 2,
     "metadata": {},
     "output_type": "execute_result"
    }
   ],
   "source": [
    "# This will convert 200 minutes to hours by dividing by 60\n",
    "200/60"
   ]
  },
  {
   "cell_type": "code",
   "execution_count": null,
   "id": "53500817-02fe-4257-bc05-4973c79d830b",
   "metadata": {},
   "outputs": [],
   "source": []
  }
 ],
 "metadata": {
  "kernelspec": {
   "display_name": "Python 3 (ipykernel)",
   "language": "python",
   "name": "python3"
  },
  "language_info": {
   "codemirror_mode": {
    "name": "ipython",
    "version": 3
   },
   "file_extension": ".py",
   "mimetype": "text/x-python",
   "name": "python",
   "nbconvert_exporter": "python",
   "pygments_lexer": "ipython3",
   "version": "3.12.8"
  }
 },
 "nbformat": 4,
 "nbformat_minor": 5
}
